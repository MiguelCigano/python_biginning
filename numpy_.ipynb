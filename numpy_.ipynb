{
  "nbformat": 4,
  "nbformat_minor": 0,
  "metadata": {
    "colab": {
      "provenance": [],
      "authorship_tag": "ABX9TyPqy83hYP5WTjyW+uivZvG9",
      "include_colab_link": true
    },
    "kernelspec": {
      "name": "python3",
      "display_name": "Python 3"
    },
    "language_info": {
      "name": "python"
    }
  },
  "cells": [
    {
      "cell_type": "markdown",
      "metadata": {
        "id": "view-in-github",
        "colab_type": "text"
      },
      "source": [
        "<a href=\"https://colab.research.google.com/github/MiguelCigano/python_telecom/blob/main/numpy_.ipynb\" target=\"_parent\"><img src=\"https://colab.research.google.com/assets/colab-badge.svg\" alt=\"Open In Colab\"/></a>"
      ]
    },
    {
      "cell_type": "markdown",
      "source": [
        "## Numpy para gente con prisa"
      ],
      "metadata": {
        "id": "1bOVPOXuWkMy"
      }
    },
    {
      "cell_type": "markdown",
      "source": [
        "####Configuración previa\n",
        "\n",
        "El análisis de datos básico se realiza en Python con tres paquetes básicos, que se complementan entre ellas:\n",
        "\n",
        "- **Numpy**: para operaciones de **algebra líneal**.\n",
        "- **Pandas**: para manejo de **dataframes**.\n",
        "- **Matplotlib**: para vizualización de **gŕaficos**.\n",
        "\n",
        "Son paquetes externos a Python, por lo que tenemos que instalarlas para poder usarlas.\n",
        "\n",
        "\n",
        "\n",
        "```\n",
        "<pip install numpy>\n",
        "```\n",
        "\n",
        "\n",
        "Si usas conda como administrador de ambientes, puedes usar:\n",
        "\n",
        "\n",
        "```\n",
        "<conda install -c anaconda numpy>\n",
        "```\n",
        "\n",
        "\n",
        "\n",
        "https://numpy.org/\n",
        "\n",
        "Considera hecharle un ojo a el uso de Markdown en Collab:\n",
        "https://colab.research.google.com/notebooks/markdown_guide.ipynb\n"
      ],
      "metadata": {
        "id": "4LKacxMthYJ1"
      }
    },
    {
      "cell_type": "markdown",
      "source": [
        "Tambien se puede instalar desde el Collab usando:\n",
        "\n",
        "```\n",
        "<!pip install numpy>\n",
        "```\n",
        "\n"
      ],
      "metadata": {
        "id": "8bgDwZ7tk_-8"
      }
    },
    {
      "cell_type": "code",
      "source": [
        "import numpy as np"
      ],
      "metadata": {
        "id": "crLl1b8QlhyT"
      },
      "execution_count": 1,
      "outputs": []
    },
    {
      "cell_type": "markdown",
      "source": [
        "La programación gráfica se basa en la idea de manipular información almacenada estructuras conocidos como  **vectores**  y **matrices**.\n",
        "\n",
        "En Python, aunque existen las listas, no es coveniente usarlas como si fueran vectores debido a que solo son colecciones y están limitadas en operaciones matemáticas.\n",
        "\n",
        "Sin embargo, **Numpy** viene a solucionar esa limitación ofreciendo los arreglos, (**array**), los cuales son un tipo de datos parecido a las listas."
      ],
      "metadata": {
        "id": "wv0-3V6Ll1xv"
      }
    },
    {
      "cell_type": "code",
      "source": [
        "arreglo = np.array([1, 2, 4, 8, 6])\n",
        "arreglo"
      ],
      "metadata": {
        "colab": {
          "base_uri": "https://localhost:8080/"
        },
        "id": "I6x9HZbpmxm4",
        "outputId": "a7009ff8-0a17-4db4-c466-cea9a5a52160"
      },
      "execution_count": 4,
      "outputs": [
        {
          "output_type": "execute_result",
          "data": {
            "text/plain": [
              "array([1, 2, 4, 8, 6])"
            ]
          },
          "metadata": {},
          "execution_count": 4
        }
      ]
    },
    {
      "cell_type": "code",
      "source": [
        "print(arreglo)"
      ],
      "metadata": {
        "colab": {
          "base_uri": "https://localhost:8080/"
        },
        "id": "8REVeWganF6z",
        "outputId": "2fb60c33-13d0-407b-bc5f-c80698cce08a"
      },
      "execution_count": 5,
      "outputs": [
        {
          "output_type": "stream",
          "name": "stdout",
          "text": [
            "[1 2 4 8 6]\n"
          ]
        }
      ]
    },
    {
      "cell_type": "code",
      "source": [
        "type(arreglo)"
      ],
      "metadata": {
        "colab": {
          "base_uri": "https://localhost:8080/"
        },
        "id": "KJWdsVAKnrKe",
        "outputId": "e627acec-8986-4e06-83ab-56471e215ee3"
      },
      "execution_count": 6,
      "outputs": [
        {
          "output_type": "execute_result",
          "data": {
            "text/plain": [
              "numpy.ndarray"
            ]
          },
          "metadata": {},
          "execution_count": 6
        }
      ]
    },
    {
      "cell_type": "markdown",
      "source": [
        "Se puede consultar la dimensión y la forma de un dato tipo **array** (arreglo) usando las propiedades `ndim` y `shape`.\n",
        "\n",
        "\n",
        "\n"
      ],
      "metadata": {
        "id": "XcxBhKKioqVE"
      }
    },
    {
      "cell_type": "code",
      "source": [
        "arreglo_2 = np.array([1, 2, 3, \"Hola\", 3.1416])\n",
        "type(arreglo_2)"
      ],
      "metadata": {
        "colab": {
          "base_uri": "https://localhost:8080/"
        },
        "id": "XxErx6wboK-b",
        "outputId": "e58aecd8-4758-4129-dbb7-3e9e02f433de"
      },
      "execution_count": 8,
      "outputs": [
        {
          "output_type": "execute_result",
          "data": {
            "text/plain": [
              "numpy.ndarray"
            ]
          },
          "metadata": {},
          "execution_count": 8
        }
      ]
    },
    {
      "cell_type": "code",
      "source": [
        "arreglo_2.ndim"
      ],
      "metadata": {
        "colab": {
          "base_uri": "https://localhost:8080/"
        },
        "id": "ER-lS7zWoW-y",
        "outputId": "4382e717-87bb-4d3e-e26b-bc70e941d6a6"
      },
      "execution_count": 10,
      "outputs": [
        {
          "output_type": "execute_result",
          "data": {
            "text/plain": [
              "1"
            ]
          },
          "metadata": {},
          "execution_count": 10
        }
      ]
    },
    {
      "cell_type": "code",
      "source": [
        "arreglo_2.shape"
      ],
      "metadata": {
        "colab": {
          "base_uri": "https://localhost:8080/"
        },
        "id": "BzCxAlHRoeLf",
        "outputId": "8d8b5bef-7daa-450f-9194-504b316d0c6d"
      },
      "execution_count": 12,
      "outputs": [
        {
          "output_type": "execute_result",
          "data": {
            "text/plain": [
              "(5,)"
            ]
          },
          "metadata": {},
          "execution_count": 12
        }
      ]
    },
    {
      "cell_type": "markdown",
      "source": [
        "Podemos definir un tipo de dato **array** a partir de una lista anidada, es decir, un arreglo formado por dos sublistas."
      ],
      "metadata": {
        "id": "BGQw68L2qJXK"
      }
    },
    {
      "cell_type": "code",
      "source": [
        "arreglo_3 = np.array(\n",
        "    [\n",
        "        [1, 2, 3, 4, 5],\n",
        "        [10, 20, 30, 40, 50]\n",
        "    ]\n",
        ")"
      ],
      "metadata": {
        "id": "5j5Mp1bRqW_4"
      },
      "execution_count": 22,
      "outputs": []
    },
    {
      "cell_type": "code",
      "source": [
        "print(arreglo_3)"
      ],
      "metadata": {
        "colab": {
          "base_uri": "https://localhost:8080/"
        },
        "id": "-NDMdjnqqkEo",
        "outputId": "e7e10c4d-6413-4c22-c9c8-40ced31f14ae"
      },
      "execution_count": 23,
      "outputs": [
        {
          "output_type": "stream",
          "name": "stdout",
          "text": [
            "[[ 1  2  3  4  5]\n",
            " [10 20 30 40 50]]\n"
          ]
        }
      ]
    },
    {
      "cell_type": "code",
      "source": [
        "arreglo_3.ndim"
      ],
      "metadata": {
        "colab": {
          "base_uri": "https://localhost:8080/"
        },
        "id": "Alwopue_qp1L",
        "outputId": "43c81679-0030-4036-be96-1c8ae4130c5a"
      },
      "execution_count": 20,
      "outputs": [
        {
          "output_type": "execute_result",
          "data": {
            "text/plain": [
              "2"
            ]
          },
          "metadata": {},
          "execution_count": 20
        }
      ]
    },
    {
      "cell_type": "code",
      "source": [
        "arreglo_3.shape"
      ],
      "metadata": {
        "colab": {
          "base_uri": "https://localhost:8080/"
        },
        "id": "fbi9LiLgquQw",
        "outputId": "f176c67b-9431-4a53-c986-7b3bfae542c8"
      },
      "execution_count": 19,
      "outputs": [
        {
          "output_type": "execute_result",
          "data": {
            "text/plain": [
              "(2, 5)"
            ]
          },
          "metadata": {},
          "execution_count": 19
        }
      ]
    },
    {
      "cell_type": "code",
      "source": [
        "arreglo.dtype"
      ],
      "metadata": {
        "colab": {
          "base_uri": "https://localhost:8080/"
        },
        "id": "OJNrDccqrHGu",
        "outputId": "394f64e1-908c-4b92-9d82-0e544901a22e"
      },
      "execution_count": 24,
      "outputs": [
        {
          "output_type": "execute_result",
          "data": {
            "text/plain": [
              "dtype('int64')"
            ]
          },
          "metadata": {},
          "execution_count": 24
        }
      ]
    },
    {
      "cell_type": "code",
      "source": [
        "arreglo_4 = np.array([1, 2, 3.1416])\n",
        "arreglo_4.dtype"
      ],
      "metadata": {
        "colab": {
          "base_uri": "https://localhost:8080/"
        },
        "id": "OSuT_XyTrNji",
        "outputId": "3abda2b6-c3b6-416a-e8d9-d466aa977632"
      },
      "execution_count": 25,
      "outputs": [
        {
          "output_type": "execute_result",
          "data": {
            "text/plain": [
              "dtype('float64')"
            ]
          },
          "metadata": {},
          "execution_count": 25
        }
      ]
    },
    {
      "cell_type": "code",
      "source": [
        "arreglo_5 = np.array([\"Hola\", \"Telecomunicaciones\", \"Mundo\"])\n",
        "arreglo_5.dtype"
      ],
      "metadata": {
        "colab": {
          "base_uri": "https://localhost:8080/"
        },
        "id": "5Fa0gBEKraoo",
        "outputId": "0eb1fce3-ffd3-4ee0-c02f-01733369a454"
      },
      "execution_count": 26,
      "outputs": [
        {
          "output_type": "execute_result",
          "data": {
            "text/plain": [
              "dtype('<U18')"
            ]
          },
          "metadata": {},
          "execution_count": 26
        }
      ]
    },
    {
      "cell_type": "code",
      "source": [
        "arreglo_6 = np.array([\"Hola\", 3, 4, 5])\n",
        "arreglo_6.dtype"
      ],
      "metadata": {
        "colab": {
          "base_uri": "https://localhost:8080/"
        },
        "id": "B09TIB61sopp",
        "outputId": "967842cb-fc25-488b-ea60-5c2be3ba2d78"
      },
      "execution_count": 31,
      "outputs": [
        {
          "output_type": "execute_result",
          "data": {
            "text/plain": [
              "dtype('<U21')"
            ]
          },
          "metadata": {},
          "execution_count": 31
        }
      ]
    },
    {
      "cell_type": "code",
      "source": [],
      "metadata": {
        "id": "W6mv-sPwsuLc"
      },
      "execution_count": null,
      "outputs": []
    }
  ]
}